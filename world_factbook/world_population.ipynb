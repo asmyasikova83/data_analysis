{
 "cells": [
  {
   "cell_type": "code",
   "execution_count": 27,
   "id": "703a77b0",
   "metadata": {},
   "outputs": [],
   "source": [
    "#First, let's import all necessary libraries\n",
    "import sqlite3 #for connection with databases\n",
    "import pandas as pd #for queries\n",
    "import matplotlib.pyplot as plt #for plots\n",
    "%matplotlib inline"
   ]
  },
  {
   "cell_type": "code",
   "execution_count": 10,
   "id": "8e6dbe69",
   "metadata": {},
   "outputs": [
    {
     "name": "stdout",
     "output_type": "stream",
     "text": [
      "    type             name         tbl_name  rootpage  \\\n",
      "0  table            facts            facts         2   \n",
      "1  table  sqlite_sequence  sqlite_sequence         3   \n",
      "\n",
      "                                                 sql  \n",
      "0  CREATE TABLE \"facts\" (\"id\" INTEGER PRIMARY KEY...  \n",
      "1             CREATE TABLE sqlite_sequence(name,seq)  \n"
     ]
    }
   ],
   "source": [
    "conn = sqlite3.connect(r'factbook.db') #create a sqlite3 Connection instance\n",
    "q1= \"SELECT * FROM sqlite_master WHERE type='table';\" # create a query\n",
    "table = pd.read_sql_query(q1, conn) #return information in the form of tables\n",
    "print(table)"
   ]
  },
  {
   "cell_type": "code",
   "execution_count": 4,
   "id": "499094a9",
   "metadata": {},
   "outputs": [],
   "source": [
    "# ALternatively, use the default sqlite3 querying method\n",
    "cursor = conn.cursor()\n",
    "results = cursor.execute(q1).fetchall()"
   ]
  },
  {
   "cell_type": "code",
   "execution_count": 33,
   "id": "1ae22429",
   "metadata": {
    "scrolled": false
   },
   "outputs": [
    {
     "data": {
      "text/html": [
       "<div>\n",
       "<style scoped>\n",
       "    .dataframe tbody tr th:only-of-type {\n",
       "        vertical-align: middle;\n",
       "    }\n",
       "\n",
       "    .dataframe tbody tr th {\n",
       "        vertical-align: top;\n",
       "    }\n",
       "\n",
       "    .dataframe thead th {\n",
       "        text-align: right;\n",
       "    }\n",
       "</style>\n",
       "<table border=\"1\" class=\"dataframe\">\n",
       "  <thead>\n",
       "    <tr style=\"text-align: right;\">\n",
       "      <th></th>\n",
       "      <th>MIN(birth_rate)</th>\n",
       "      <th>MAX(birth_rate)</th>\n",
       "      <th>MIN(death_rate)</th>\n",
       "      <th>MAX(death_rate)</th>\n",
       "    </tr>\n",
       "  </thead>\n",
       "  <tbody>\n",
       "    <tr>\n",
       "      <th>0</th>\n",
       "      <td>6.65</td>\n",
       "      <td>45.45</td>\n",
       "      <td>1.53</td>\n",
       "      <td>14.89</td>\n",
       "    </tr>\n",
       "  </tbody>\n",
       "</table>\n",
       "</div>"
      ],
      "text/plain": [
       "   MIN(birth_rate)  MAX(birth_rate)  MIN(death_rate)  MAX(death_rate)\n",
       "0             6.65            45.45             1.53            14.89"
      ]
     },
     "execution_count": 33,
     "metadata": {},
     "output_type": "execute_result"
    }
   ],
   "source": [
    "# Return minimum and maximum values of birth rate, death rate\n",
    "q2 = 'SELECT MIN(birth_rate), MAX(birth_rate), MIN(death_rate), MAX(death_rate) FROM facts;'\n",
    "pd.read_sql_query(q2, conn)"
   ]
  },
  {
   "cell_type": "raw",
   "id": "a5b65178",
   "metadata": {},
   "source": [
    "# Let's take a closer look at the birth and death rates."
   ]
  },
  {
   "cell_type": "code",
   "execution_count": 30,
   "id": "19dfbb6e",
   "metadata": {},
   "outputs": [
    {
     "name": "stderr",
     "output_type": "stream",
     "text": [
      "/opt/anaconda3/envs/py37/lib/python3.7/site-packages/ipykernel_launcher.py:4: UserWarning: To output multiple subplots, the figure containing the passed axes is being cleared\n",
      "  after removing the cwd from sys.path.\n"
     ]
    },
    {
     "data": {
      "text/plain": [
       "array([[<AxesSubplot:title={'center':'birth_rate'}>,\n",
       "        <AxesSubplot:title={'center':'death_rate'}>]], dtype=object)"
      ]
     },
     "execution_count": 30,
     "metadata": {},
     "output_type": "execute_result"
    },
    {
     "data": {
      "image/png": "[encoded data removed]",
      "text/plain": [
       "<Figure size 720x720 with 2 Axes>"
      ]
     },
     "metadata": {
      "needs_background": "light"
     },
     "output_type": "display_data"
    }
   ],
   "source": [
    "# First, let's draw a histogram for birth_rate and death_rate\n",
    "fig = plt.figure(figsize = (10,10))\n",
    "ax = fig.add_subplot(111)\n",
    "qq = 'SELECT birth_rate, death_rate FROM facts'\n",
    "pd.read_sql_query(qq, conn).hist(ax=ax)"
   ]
  },
  {
   "cell_type": "raw",
   "id": "3cb84a34",
   "metadata": {},
   "source": [
    "# The distribution of birth rate values is right skewed which reqiures non-parametric methods of analysis. \n",
    "#The distribution of death rate values tends to normal."
   ]
  },
  {
   "cell_type": "code",
   "execution_count": 29,
   "id": "d65e0259",
   "metadata": {},
   "outputs": [
    {
     "data": {
      "text/html": [
       "<div>\n",
       "<style scoped>\n",
       "    .dataframe tbody tr th:only-of-type {\n",
       "        vertical-align: middle;\n",
       "    }\n",
       "\n",
       "    .dataframe tbody tr th {\n",
       "        vertical-align: top;\n",
       "    }\n",
       "\n",
       "    .dataframe thead th {\n",
       "        text-align: right;\n",
       "    }\n",
       "</style>\n",
       "<table border=\"1\" class=\"dataframe\">\n",
       "  <thead>\n",
       "    <tr style=\"text-align: right;\">\n",
       "      <th></th>\n",
       "      <th>id</th>\n",
       "      <th>code</th>\n",
       "      <th>name</th>\n",
       "      <th>area</th>\n",
       "      <th>area_land</th>\n",
       "      <th>area_water</th>\n",
       "      <th>population</th>\n",
       "      <th>population_growth</th>\n",
       "      <th>birth_rate</th>\n",
       "      <th>death_rate</th>\n",
       "      <th>migration_rate</th>\n",
       "      <th>created_at</th>\n",
       "      <th>updated_at</th>\n",
       "    </tr>\n",
       "  </thead>\n",
       "  <tbody>\n",
       "    <tr>\n",
       "      <th>0</th>\n",
       "      <td>141</td>\n",
       "      <td>qa</td>\n",
       "      <td>Qatar</td>\n",
       "      <td>11586</td>\n",
       "      <td>11586</td>\n",
       "      <td>0</td>\n",
       "      <td>2194817</td>\n",
       "      <td>3.07</td>\n",
       "      <td>9.84</td>\n",
       "      <td>1.53</td>\n",
       "      <td>22.39</td>\n",
       "      <td>2015-11-01 13:31:38.827541</td>\n",
       "      <td>2015-11-01 13:31:38.827541</td>\n",
       "    </tr>\n",
       "  </tbody>\n",
       "</table>\n",
       "</div>"
      ],
      "text/plain": [
       "    id code   name   area  area_land  area_water  population  \\\n",
       "0  141   qa  Qatar  11586      11586           0     2194817   \n",
       "\n",
       "   population_growth  birth_rate  death_rate  migration_rate  \\\n",
       "0               3.07        9.84        1.53           22.39   \n",
       "\n",
       "                   created_at                  updated_at  \n",
       "0  2015-11-01 13:31:38.827541  2015-11-01 13:31:38.827541  "
      ]
     },
     "execution_count": 29,
     "metadata": {},
     "output_type": "execute_result"
    }
   ],
   "source": [
    "# Now let's take a look at the country with a minimum death rate value.\n",
    "q3 = 'SELECT * FROM facts WHERE death_rate == (SELECT MIN(death_rate) FROM facts)'\n",
    "pd.read_sql_query(q3, conn)\n"
   ]
  },
  {
   "cell_type": "raw",
   "id": "df1a0d7c",
   "metadata": {},
   "source": [
    "# Qatar  has a specific age structure with a very small share of those older than 54. Therefore, death_rate is small (https://www.indexmundi.com/qatar/)."
   ]
  },
  {
   "cell_type": "code",
   "execution_count": 26,
   "id": "b5faf048",
   "metadata": {},
   "outputs": [
    {
     "data": {
      "text/html": [
       "<div>\n",
       "<style scoped>\n",
       "    .dataframe tbody tr th:only-of-type {\n",
       "        vertical-align: middle;\n",
       "    }\n",
       "\n",
       "    .dataframe tbody tr th {\n",
       "        vertical-align: top;\n",
       "    }\n",
       "\n",
       "    .dataframe thead th {\n",
       "        text-align: right;\n",
       "    }\n",
       "</style>\n",
       "<table border=\"1\" class=\"dataframe\">\n",
       "  <thead>\n",
       "    <tr style=\"text-align: right;\">\n",
       "      <th></th>\n",
       "      <th>id</th>\n",
       "      <th>code</th>\n",
       "      <th>name</th>\n",
       "      <th>area</th>\n",
       "      <th>area_land</th>\n",
       "      <th>area_water</th>\n",
       "      <th>population</th>\n",
       "      <th>population_growth</th>\n",
       "      <th>birth_rate</th>\n",
       "      <th>death_rate</th>\n",
       "      <th>migration_rate</th>\n",
       "      <th>created_at</th>\n",
       "      <th>updated_at</th>\n",
       "    </tr>\n",
       "  </thead>\n",
       "  <tbody>\n",
       "    <tr>\n",
       "      <th>0</th>\n",
       "      <td>98</td>\n",
       "      <td>lt</td>\n",
       "      <td>Lesotho</td>\n",
       "      <td>30355</td>\n",
       "      <td>30355</td>\n",
       "      <td>0</td>\n",
       "      <td>1947701</td>\n",
       "      <td>0.32</td>\n",
       "      <td>25.47</td>\n",
       "      <td>14.89</td>\n",
       "      <td>7.36</td>\n",
       "      <td>2015-11-01 13:28:12.551085</td>\n",
       "      <td>2015-11-01 13:28:12.551085</td>\n",
       "    </tr>\n",
       "  </tbody>\n",
       "</table>\n",
       "</div>"
      ],
      "text/plain": [
       "   id code     name   area  area_land  area_water  population  \\\n",
       "0  98   lt  Lesotho  30355      30355           0     1947701   \n",
       "\n",
       "   population_growth  birth_rate  death_rate  migration_rate  \\\n",
       "0               0.32       25.47       14.89            7.36   \n",
       "\n",
       "                   created_at                  updated_at  \n",
       "0  2015-11-01 13:28:12.551085  2015-11-01 13:28:12.551085  "
      ]
     },
     "execution_count": 26,
     "metadata": {},
     "output_type": "execute_result"
    }
   ],
   "source": [
    "#Let's take a look at the maximum death rate value.\n",
    "q4 = 'SELECT * FROM facts WHERE death_rate == (SELECT MAX(death_rate) FROM facts)'\n",
    "pd.read_sql_query(q4, conn)\n"
   ]
  },
  {
   "cell_type": "raw",
   "id": "82e927a8",
   "metadata": {},
   "source": [
    "# It's Lesotho, a country with a very low Human Developmnt Index (165th) (https://en.wikipedia.org/wiki/Lesotho)."
   ]
  },
  {
   "cell_type": "raw",
   "id": "a2aff57b",
   "metadata": {},
   "source": [
    "# The data look good so far.\n",
    "Let's take a look at the difference between birth and death rates which is supposed to reflect fastest growing countries in terms of population."
   ]
  },
  {
   "cell_type": "code",
   "execution_count": 23,
   "id": "cd47655a",
   "metadata": {},
   "outputs": [
    {
     "data": {
      "text/html": [
       "<div>\n",
       "<style scoped>\n",
       "    .dataframe tbody tr th:only-of-type {\n",
       "        vertical-align: middle;\n",
       "    }\n",
       "\n",
       "    .dataframe tbody tr th {\n",
       "        vertical-align: top;\n",
       "    }\n",
       "\n",
       "    .dataframe thead th {\n",
       "        text-align: right;\n",
       "    }\n",
       "</style>\n",
       "<table border=\"1\" class=\"dataframe\">\n",
       "  <thead>\n",
       "    <tr style=\"text-align: right;\">\n",
       "      <th></th>\n",
       "      <th>name</th>\n",
       "      <th>diff</th>\n",
       "    </tr>\n",
       "  </thead>\n",
       "  <tbody>\n",
       "    <tr>\n",
       "      <th>0</th>\n",
       "      <td>Malawi</td>\n",
       "      <td>33.15</td>\n",
       "    </tr>\n",
       "    <tr>\n",
       "      <th>1</th>\n",
       "      <td>Uganda</td>\n",
       "      <td>33.10</td>\n",
       "    </tr>\n",
       "    <tr>\n",
       "      <th>2</th>\n",
       "      <td>Niger</td>\n",
       "      <td>33.03</td>\n",
       "    </tr>\n",
       "    <tr>\n",
       "      <th>3</th>\n",
       "      <td>Burundi</td>\n",
       "      <td>32.74</td>\n",
       "    </tr>\n",
       "    <tr>\n",
       "      <th>4</th>\n",
       "      <td>Mali</td>\n",
       "      <td>32.10</td>\n",
       "    </tr>\n",
       "    <tr>\n",
       "      <th>5</th>\n",
       "      <td>Burkina Faso</td>\n",
       "      <td>30.31</td>\n",
       "    </tr>\n",
       "    <tr>\n",
       "      <th>6</th>\n",
       "      <td>Zambia</td>\n",
       "      <td>29.46</td>\n",
       "    </tr>\n",
       "    <tr>\n",
       "      <th>7</th>\n",
       "      <td>Ethiopia</td>\n",
       "      <td>29.08</td>\n",
       "    </tr>\n",
       "    <tr>\n",
       "      <th>8</th>\n",
       "      <td>South Sudan</td>\n",
       "      <td>28.73</td>\n",
       "    </tr>\n",
       "    <tr>\n",
       "      <th>9</th>\n",
       "      <td>Tanzania</td>\n",
       "      <td>28.39</td>\n",
       "    </tr>\n",
       "  </tbody>\n",
       "</table>\n",
       "</div>"
      ],
      "text/plain": [
       "           name   diff\n",
       "0        Malawi  33.15\n",
       "1        Uganda  33.10\n",
       "2         Niger  33.03\n",
       "3       Burundi  32.74\n",
       "4          Mali  32.10\n",
       "5  Burkina Faso  30.31\n",
       "6        Zambia  29.46\n",
       "7      Ethiopia  29.08\n",
       "8   South Sudan  28.73\n",
       "9      Tanzania  28.39"
      ]
     },
     "execution_count": 23,
     "metadata": {},
     "output_type": "execute_result"
    }
   ],
   "source": [
    "q5 = 'SELECT name, birth_rate-death_rate diff FROM facts ORDER BY diff desc LIMIT 10'\n",
    "pd.read_sql_query(q5, conn)"
   ]
  },
  {
   "cell_type": "raw",
   "id": "156a6bed",
   "metadata": {},
   "source": [
    "# We see that the list of fastest growing countries includes central and southern african countries as expected. The list we obtained is similar to the list in WorldAtlas www.worldatlas.com"
   ]
  },
  {
   "cell_type": "raw",
   "id": "0e098e9e",
   "metadata": {},
   "source": [
    "# We see that the data from the factbook are consistent and in compliance with other data sources."
   ]
  }
 ],
 "metadata": {
  "kernelspec": {
   "display_name": "Python 3 (ipykernel)",
   "language": "python",
   "name": "python3"
  },
  "language_info": {
   "codemirror_mode": {
    "name": "ipython",
    "version": 3
   },
   "file_extension": ".py",
   "mimetype": "text/x-python",
   "name": "python",
   "nbconvert_exporter": "python",
   "pygments_lexer": "ipython3",
   "version": "3.7.12"
  }
 },
 "nbformat": 4,
 "nbformat_minor": 5
}
